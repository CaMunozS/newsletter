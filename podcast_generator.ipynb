{
 "cells": [
  {
   "cell_type": "code",
   "execution_count": null,
   "metadata": {},
   "outputs": [],
   "source": [
    "from pathlib import Path\n",
    "import os\n",
    "import shutil\n",
    "import openai\n",
    "import azure.cognitiveservices.speech as speechsdk\n",
    "\n",
    "def generar_guion(contenido: str) -> str:\n",
    "    \"\"\"Genera un guion de podcast a partir del texto proporcionado.\"\"\"\n",
    "    client = openai.AzureOpenAI(\n",
    "        api_key=os.environ[\"AZURE_OPENAI_API_KEY\"],\n",
    "        api_version=\"2024-05-01-preview\",\n",
    "        base_url=os.environ[\"AZURE_OPENAI_ENDPOINT\"],\n",
    "    )\n",
    "    mensajes = [\n",
    "        {\"role\": \"system\", \"content\": \"Eres un asistente que redacta guiones de podcasts sobre noticias relacionadas con banca.\"},\n",
    "        {\"role\": \"user\", \"content\": contenido},\n",
    "    ]\n",
    "    respuesta = client.chat.completions.create(model=os.environ[\"AZURE_OPENAI_DEPLOYMENT\"], messages=mensajes)\n",
    "    return respuesta.choices[0].message.content.strip()\n",
    "\n",
    "def generar_audio(texto: str, archivo_salida: Path) -> None:\n",
    "    \"\"\"Convierte el texto en audio y lo guarda en archivo_salida.\"\"\"\n",
    "    speech_config = speechsdk.SpeechConfig(\n",
    "        subscription=os.environ[\"AZURE_SPEECH_KEY\"],\n",
    "        region=os.environ[\"AZURE_SPEECH_REGION\"],\n",
    "    )\n",
    "    audio_config = speechsdk.audio.AudioOutputConfig(filename=str(archivo_salida))\n",
    "    sintetizador = speechsdk.SpeechSynthesizer(speech_config=speech_config, audio_config=audio_config)\n",
    "    sintetizador.speak_text_async(texto).get()\n",
    "\n",
    "def procesar_archivo(md_path: Path, salida_dir: Path, procesado_dir: Path) -> None:\n",
    "    \"\"\"Procesa un archivo Markdown: genera guion, audio y mueve el archivo.\"\"\"\n",
    "    contenido = md_path.read_text(encoding=\"utf-8\")\n",
    "    guion = generar_guion(contenido)\n",
    "    archivo_audio = salida_dir / f\"{md_path.stem}.mp3\"\n",
    "    generar_audio(guion, archivo_audio)\n",
    "    shutil.move(str(md_path), procesado_dir / md_path.name)\n"
   ]
  },
  {
   "cell_type": "code",
   "execution_count": null,
   "metadata": {},
   "outputs": [],
   "source": [
    "# Configura los directorios de trabajo\n",
    "entrada_dir = Path(\"entrada\")\n",
    "salida_dir = Path(\"salida\")\n",
    "procesado_dir = Path(\"procesado\")\n",
    "\n",
    "for d in (entrada_dir, salida_dir, procesado_dir):\n",
    "    d.mkdir(parents=True, exist_ok=True)\n",
    "\n",
    "for md_file in entrada_dir.glob(\"*.md\"):\n",
    "    procesar_archivo(md_file, salida_dir, procesado_dir)\n"
   ]
  }
 ],
 "metadata": {
  "kernelspec": {
   "display_name": "Python 3",
   "language": "python",
   "name": "python3"
  },
  "language_info": {
   "name": "python",
   "version": "3.10"
  }
 },
 "nbformat": 4,
 "nbformat_minor": 5
}
